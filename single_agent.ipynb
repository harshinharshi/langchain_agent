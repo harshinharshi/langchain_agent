{
  "cells": [
    {
      "cell_type": "markdown",
      "metadata": {},
      "source": [
        "# Load necessary keys"
      ]
    },
    {
      "cell_type": "code",
      "execution_count": null,
      "metadata": {},
      "outputs": [],
      "source": [
        "from dotenv import load_dotenv\n",
        "import os\n",
        "load_dotenv()\n",
        "os.environ['LANGSMITH_API_KEY'] = os.getenv('LANGSMITH_API_KEY')\n",
        "os.environ['TAVILY_API_KEY'] = os.getenv('TAVILY_API_KEY')\n",
        "os.environ['GROQ_API_KEY'] = os.getenv('GROQ_API_KEY')\n",
        "os.environ[\"LANGSMITH_TRACING\"] = \"true\""
      ]
    },
    {
      "cell_type": "markdown",
      "metadata": {},
      "source": [
        "# End to End agent"
      ]
    },
    {
      "cell_type": "code",
      "execution_count": 22,
      "metadata": {},
      "outputs": [
        {
          "name": "stdout",
          "output_type": "stream",
          "text": [
            "{'agent': {'messages': [AIMessage(content='Hello Bob! Nice to meet you. San Francisco is a great city. Is there anything specific about SF you would like to know or discuss?', additional_kwargs={}, response_metadata={'token_usage': {'completion_tokens': 30, 'prompt_tokens': 210, 'total_tokens': 240, 'completion_time': 0.075424915, 'prompt_time': 0.013850544, 'queue_time': 0.024010331000000003, 'total_time': 0.089275459}, 'model_name': 'qwen-2.5-32b', 'system_fingerprint': 'fp_7b9ecfcd5f', 'finish_reason': 'stop', 'logprobs': None}, id='run-174c16ae-5c67-4be1-be0b-92f2644383cc-0', usage_metadata={'input_tokens': 210, 'output_tokens': 30, 'total_tokens': 240})]}}\n",
            "----\n",
            "**********\n",
            "{'agent': {'messages': [AIMessage(content='', additional_kwargs={'tool_calls': [{'id': 'call_exw4', 'function': {'arguments': '{\"query\": \"current weather in San Francisco\"}', 'name': 'tavily_search_results_json'}, 'type': 'function'}]}, response_metadata={'token_usage': {'completion_tokens': 52, 'prompt_tokens': 257, 'total_tokens': 309, 'completion_time': 0.130740941, 'prompt_time': 0.016627653, 'queue_time': 0.022899084, 'total_time': 0.147368594}, 'model_name': 'qwen-2.5-32b', 'system_fingerprint': 'fp_7b9ecfcd5f', 'finish_reason': 'tool_calls', 'logprobs': None}, id='run-caed51ce-8f62-4f3a-8c82-177c908623ae-0', tool_calls=[{'name': 'tavily_search_results_json', 'args': {'query': 'current weather in San Francisco'}, 'id': 'call_exw4', 'type': 'tool_call'}], usage_metadata={'input_tokens': 257, 'output_tokens': 52, 'total_tokens': 309})]}}\n",
            "----\n",
            "{'tools': {'messages': [ToolMessage(content='[{\"url\": \"https://www.weatherapi.com/\", \"content\": \"{\\'location\\': {\\'name\\': \\'San Francisco\\', \\'region\\': \\'California\\', \\'country\\': \\'United States of America\\', \\'lat\\': 37.775, \\'lon\\': -122.4183, \\'tz_id\\': \\'America/Los_Angeles\\', \\'localtime_epoch\\': 1739694781, \\'localtime\\': \\'2025-02-16 00:33\\'}, \\'current\\': {\\'last_updated_epoch\\': 1739694600, \\'last_updated\\': \\'2025-02-16 00:30\\', \\'temp_c\\': 8.9, \\'temp_f\\': 48.0, \\'is_day\\': 0, \\'condition\\': {\\'text\\': \\'Partly cloudy\\', \\'icon\\': \\'//cdn.weatherapi.com/weather/64x64/night/116.png\\', \\'code\\': 1003}, \\'wind_mph\\': 2.7, \\'wind_kph\\': 4.3, \\'wind_degree\\': 251, \\'wind_dir\\': \\'WSW\\', \\'pressure_mb\\': 1025.0, \\'pressure_in\\': 30.26, \\'precip_mm\\': 0.0, \\'precip_in\\': 0.0, \\'humidity\\': 93, \\'cloud\\': 50, \\'feelslike_c\\': 8.7, \\'feelslike_f\\': 47.7, \\'windchill_c\\': 9.6, \\'windchill_f\\': 49.2, \\'heatindex_c\\': 9.7, \\'heatindex_f\\': 49.5, \\'dewpoint_c\\': 9.3, \\'dewpoint_f\\': 48.8, \\'vis_km\\': 16.0, \\'vis_miles\\': 9.0, \\'uv\\': 0.0, \\'gust_mph\\': 4.3, \\'gust_kph\\': 6.9}}\"}, {\"url\": \"https://weathershogun.com/weather/usa/ca/san-francisco/480/february/2025-02-16\", \"content\": \"San Francisco, California Weather: Sunday, February 16, 2025. Cloudy weather, overcast skies with no rain. Day 59°. Night 54°.\"}]', name='tavily_search_results_json', id='d6b0fefe-3c12-462f-ac0c-04db0a2514d0', tool_call_id='call_exw4', artifact={'query': 'current weather in San Francisco', 'follow_up_questions': None, 'answer': None, 'images': [], 'results': [{'title': 'Weather in San Francisco', 'url': 'https://www.weatherapi.com/', 'content': \"{'location': {'name': 'San Francisco', 'region': 'California', 'country': 'United States of America', 'lat': 37.775, 'lon': -122.4183, 'tz_id': 'America/Los_Angeles', 'localtime_epoch': 1739694781, 'localtime': '2025-02-16 00:33'}, 'current': {'last_updated_epoch': 1739694600, 'last_updated': '2025-02-16 00:30', 'temp_c': 8.9, 'temp_f': 48.0, 'is_day': 0, 'condition': {'text': 'Partly cloudy', 'icon': '//cdn.weatherapi.com/weather/64x64/night/116.png', 'code': 1003}, 'wind_mph': 2.7, 'wind_kph': 4.3, 'wind_degree': 251, 'wind_dir': 'WSW', 'pressure_mb': 1025.0, 'pressure_in': 30.26, 'precip_mm': 0.0, 'precip_in': 0.0, 'humidity': 93, 'cloud': 50, 'feelslike_c': 8.7, 'feelslike_f': 47.7, 'windchill_c': 9.6, 'windchill_f': 49.2, 'heatindex_c': 9.7, 'heatindex_f': 49.5, 'dewpoint_c': 9.3, 'dewpoint_f': 48.8, 'vis_km': 16.0, 'vis_miles': 9.0, 'uv': 0.0, 'gust_mph': 4.3, 'gust_kph': 6.9}}\", 'score': 0.984224, 'raw_content': None}, {'url': 'https://weathershogun.com/weather/usa/ca/san-francisco/480/february/2025-02-16', 'title': 'Sunday, February 16, 2025. San Francisco, CA - Weather Forecast', 'content': 'San Francisco, California Weather: Sunday, February 16, 2025. Cloudy weather, overcast skies with no rain. Day 59°. Night 54°.', 'score': 0.95176035, 'raw_content': None}], 'response_time': 2.34})]}}\n",
            "----\n",
            "{'agent': {'messages': [AIMessage(content='The current weather in San Francisco is partly cloudy with a temperature of 8.9°C (48°F). It feels a bit cooler at 8.7°C (47.7°F) due to the wind chill. The humidity is quite high at 93%, and the skies are 50% cloudy. The wind is coming from the WSW direction at 2.7 mph (4.3 kph). \\n\\nFor today, the weather is expected to be mostly cloudy without any rain, with daytime temperatures around 59°F (15°C) and nighttime temperatures around 54°F (12.2°C). Enjoy your day in San Francisco!', additional_kwargs={}, response_metadata={'token_usage': {'completion_tokens': 141, 'prompt_tokens': 857, 'total_tokens': 998, 'completion_time': 0.355258562, 'prompt_time': 0.046036064, 'queue_time': 0.024065947000000004, 'total_time': 0.401294626}, 'model_name': 'qwen-2.5-32b', 'system_fingerprint': 'fp_7b9ecfcd5f', 'finish_reason': 'stop', 'logprobs': None}, id='run-cf467e5a-bfe1-4b92-8a4e-d1efbc8f0a55-0', usage_metadata={'input_tokens': 857, 'output_tokens': 141, 'total_tokens': 998})]}}\n",
            "----\n"
          ]
        }
      ],
      "source": [
        "# Import relevant functionality\n",
        "from langchain_community.tools.tavily_search import TavilySearchResults\n",
        "from langchain_core.messages import HumanMessage\n",
        "from langgraph.checkpoint.memory import MemorySaver\n",
        "from langgraph.prebuilt import create_react_agent\n",
        "from langchain.chat_models import init_chat_model\n",
        "\n",
        "# Create the agent\n",
        "memory = MemorySaver()\n",
        "model = init_chat_model(\"qwen-2.5-32b\", model_provider=\"groq\")\n",
        "search = TavilySearchResults(max_results=2)\n",
        "tools = [search]\n",
        "agent_executor = create_react_agent(model, tools, checkpointer=memory)\n",
        "\n",
        "# Use the agent\n",
        "config = {\"configurable\": {\"thread_id\": \"abc123\"}}\n",
        "for chunk in agent_executor.stream(\n",
        "    {\"messages\": [HumanMessage(content=\"hi im bob! and i live in sf\")]}, config\n",
        "):\n",
        "    print(chunk)\n",
        "    print(\"----\")\n",
        "print(\"*\"*10)\n",
        "for chunk in agent_executor.stream(\n",
        "    {\"messages\": [HumanMessage(content=\"whats the weather where I live?\")]}, config\n",
        "):\n",
        "    print(chunk)\n",
        "    print(\"----\")"
      ]
    },
    {
      "cell_type": "markdown",
      "metadata": {},
      "source": [
        "# Agent creatioln"
      ]
    },
    {
      "cell_type": "markdown",
      "metadata": {},
      "source": [
        "## Tool defanition"
      ]
    },
    {
      "cell_type": "code",
      "execution_count": 23,
      "metadata": {
        "colab": {
          "base_uri": "https://localhost:8080/"
        },
        "id": "pHvKJswJDndq",
        "outputId": "82c0d914-85e1-46ea-ecd8-29af667df725"
      },
      "outputs": [
        {
          "name": "stdout",
          "output_type": "stream",
          "text": [
            "{'url': 'https://www.weatherapi.com/', 'content': \"{'location': {'name': 'Kannur', 'region': 'Kerala', 'country': 'India', 'lat': 11.8667, 'lon': 75.3653, 'tz_id': 'Asia/Kolkata', 'localtime_epoch': 1739695345, 'localtime': '2025-02-16 14:12'}, 'current': {'last_updated_epoch': 1739694600, 'last_updated': '2025-02-16 14:00', 'temp_c': 30.4, 'temp_f': 86.7, 'is_day': 1, 'condition': {'text': 'Sunny', 'icon': '//cdn.weatherapi.com/weather/64x64/day/113.png', 'code': 1000}, 'wind_mph': 13.6, 'wind_kph': 22.0, 'wind_degree': 229, 'wind_dir': 'SW', 'pressure_mb': 1008.0, 'pressure_in': 29.77, 'precip_mm': 0.0, 'precip_in': 0.0, 'humidity': 62, 'cloud': 2, 'feelslike_c': 34.2, 'feelslike_f': 93.6, 'windchill_c': 30.4, 'windchill_f': 86.7, 'heatindex_c': 34.2, 'heatindex_f': 93.6, 'dewpoint_c': 22.3, 'dewpoint_f': 72.2, 'vis_km': 10.0, 'vis_miles': 6.0, 'uv': 6.7, 'gust_mph': 15.7, 'gust_kph': 25.3}}\"}\n"
          ]
        }
      ],
      "source": [
        "from langchain_community.tools.tavily_search import TavilySearchResults\n",
        "\n",
        "search = TavilySearchResults(max_results=2)\n",
        "search_results = search.invoke(\"what is the weather in kannur\")\n",
        "print(search_results[0])"
      ]
    },
    {
      "cell_type": "code",
      "execution_count": 44,
      "metadata": {},
      "outputs": [],
      "source": [
        "# tools list\n",
        "tools = [search]"
      ]
    },
    {
      "cell_type": "markdown",
      "metadata": {},
      "source": [
        "## Define model "
      ]
    },
    {
      "cell_type": "code",
      "execution_count": 25,
      "metadata": {
        "id": "194cT96hDvBl"
      },
      "outputs": [],
      "source": [
        "from langchain.chat_models import init_chat_model\n",
        "\n",
        "model = init_chat_model(\"qwen-2.5-32b\", model_provider=\"groq\")"
      ]
    },
    {
      "cell_type": "code",
      "execution_count": 26,
      "metadata": {
        "colab": {
          "base_uri": "https://localhost:8080/",
          "height": 36
        },
        "id": "c-Yf_WDhD4oG",
        "outputId": "7840445f-2c64-47c4-f38e-138cd5f3e6c7"
      },
      "outputs": [
        {
          "data": {
            "text/plain": [
              "'Hello! How can I assist you today?'"
            ]
          },
          "execution_count": 26,
          "metadata": {},
          "output_type": "execute_result"
        }
      ],
      "source": [
        "from langchain_core.messages import HumanMessage\n",
        "\n",
        "response = model.invoke([HumanMessage(content=\"hi!\")])\n",
        "response.content"
      ]
    },
    {
      "cell_type": "markdown",
      "metadata": {},
      "source": [
        "## Combine tool with model "
      ]
    },
    {
      "cell_type": "code",
      "execution_count": 27,
      "metadata": {
        "id": "IKVjxBNGD7ty"
      },
      "outputs": [],
      "source": [
        "model_with_tools = model.bind_tools(tools)"
      ]
    },
    {
      "cell_type": "code",
      "execution_count": 46,
      "metadata": {
        "colab": {
          "base_uri": "https://localhost:8080/"
        },
        "id": "Y-jM31VuD95w",
        "outputId": "de5832fa-fa30-4cec-9ff1-dfd6ec86e447"
      },
      "outputs": [
        {
          "name": "stdout",
          "output_type": "stream",
          "text": [
            "ContentString: Hello! How can I assist you today?\n",
            "ToolCalls: []\n"
          ]
        }
      ],
      "source": [
        "response = model_with_tools.invoke([HumanMessage(content=\"Hi!\")])\n",
        "\n",
        "print(f\"ContentString: {response.content}\") # print response content\n",
        "print(f\"ToolCalls: {response.tool_calls}\")  # print tool calls  "
      ]
    },
    {
      "cell_type": "code",
      "execution_count": 47,
      "metadata": {
        "id": "NErJ20ygG7Ew"
      },
      "outputs": [],
      "source": [
        "system_prompt = \"\"\"\n",
        "You are an expert assistant designed to answer questions by following a structured, step-by-step reasoning process. To assist you, you have access to tools that can be invoked using Python functions. Your task-solving approach should follow a sequence of 'Thought:', 'Code:', and 'Observation:' steps.\n",
        "\n",
        "### How to Proceed:\n",
        "1. Thought: At each step, explain your reasoning for answering the question. Decide whether to use a tool or not, and describe your plan.\n",
        "2. Code: If a tool is needed, write the corresponding Python code in a simple format. The code block must end with `<end_code>`. Use `print()` statements to capture important intermediate results.\n",
        "3. Observation: The output of the `print()` statements will appear in this field, providing information for the next step.\n",
        "4. Repeat the cycle until you arrive at the final answer.\n",
        "\n",
        "### Final Output:\n",
        "At the end of the process, provide the `final_answer` to the question.\n",
        "\n",
        "---\n",
        "\n",
        "### Examples:\n",
        "\n",
        "#### Example 1:\n",
        "Task: \"What is the weather in San Francisco?\"\n",
        "\n",
        "Thought: I need to find the current weather in San Francisco. I will use the `search` tool to look up this information.\n",
        "\n",
        "Code:\n",
        "```py\n",
        "answer = search.invoke(\"What is the weather in San Francisco?\")\n",
        "print(answer)\n",
        "```<end_code>\n",
        "\n",
        "Observation: San Francisco is partly cloudy.\n",
        "\n",
        "Final Answer: The weather in San Francisco is partly cloudy.\n",
        "\n",
        "---\n",
        "\n",
        "#### Example 2:\n",
        "Task: \"Hi, how are you?\"\n",
        "\n",
        "Thought: This is a conversational question, so I don't need to use any tools. I will respond directly.\n",
        "\n",
        "Final Answer: I'm doing well, thank you! How about you?\n",
        "\n",
        "---\n",
        "\n",
        "\"\"\""
      ]
    },
    {
      "cell_type": "code",
      "execution_count": 30,
      "metadata": {
        "id": "Uc6pb1O0F6Sx"
      },
      "outputs": [],
      "source": [
        "from langchain.schema import SystemMessage, HumanMessage  # Ensure SystemMessage is imported\n",
        "\n",
        "response = model_with_tools.invoke([\n",
        "    SystemMessage(content=system_prompt),  # System prompt\n",
        "    HumanMessage(content=\"Hi, how are you?\")\n",
        "])"
      ]
    },
    {
      "cell_type": "code",
      "execution_count": 31,
      "metadata": {
        "colab": {
          "base_uri": "https://localhost:8080/"
        },
        "id": "CniY1EhKF782",
        "outputId": "113966c0-6a4d-4860-958c-dc304cd5a051"
      },
      "outputs": [
        {
          "data": {
            "text/plain": [
              "AIMessage(content=\"Final Answer: I'm here to assist you! How can I help you today?\", additional_kwargs={}, response_metadata={'token_usage': {'completion_tokens': 18, 'prompt_tokens': 536, 'total_tokens': 554, 'completion_time': 0.045278286, 'prompt_time': 0.029357621, 'queue_time': 0.022765288, 'total_time': 0.074635907}, 'model_name': 'qwen-2.5-32b', 'system_fingerprint': 'fp_7b9ecfcd5f', 'finish_reason': 'stop', 'logprobs': None}, id='run-2d5c2dc1-e51a-4a12-a2d8-825bb36580f0-0', usage_metadata={'input_tokens': 536, 'output_tokens': 18, 'total_tokens': 554})"
            ]
          },
          "execution_count": 31,
          "metadata": {},
          "output_type": "execute_result"
        }
      ],
      "source": [
        "response"
      ]
    },
    {
      "cell_type": "code",
      "execution_count": 32,
      "metadata": {
        "colab": {
          "base_uri": "https://localhost:8080/"
        },
        "id": "NtLLJQazePUH",
        "outputId": "dbae4238-d7f8-4188-8cf7-2edd7d979b42"
      },
      "outputs": [
        {
          "name": "stdout",
          "output_type": "stream",
          "text": [
            "ContentString: Final Answer: I'm here to assist you! How can I help you today?\n",
            "ToolCalls: []\n"
          ]
        }
      ],
      "source": [
        "print(f\"ContentString: {response.content}\")\n",
        "print(f\"ToolCalls: {response.tool_calls}\")"
      ]
    },
    {
      "cell_type": "code",
      "execution_count": 33,
      "metadata": {
        "colab": {
          "base_uri": "https://localhost:8080/"
        },
        "id": "yHbDzNsOeHZw",
        "outputId": "4e3af119-40cb-43bd-89b2-abc802f88558"
      },
      "outputs": [
        {
          "name": "stdout",
          "output_type": "stream",
          "text": [
            "ContentString: \n",
            "ToolCalls: [{'name': 'tavily_search_results_json', 'args': {'query': 'weather in SF'}, 'id': 'call_xvhm', 'type': 'tool_call'}]\n"
          ]
        }
      ],
      "source": [
        "response = model_with_tools.invoke([\n",
        "    SystemMessage(content=system_prompt),  # System prompt\n",
        "    HumanMessage(content=\"What's the weather in SF?\")\n",
        "])\n",
        "\n",
        "print(f\"ContentString: {response.content}\")\n",
        "print(f\"ToolCalls: {response.tool_calls}\")"
      ]
    },
    {
      "cell_type": "code",
      "execution_count": 34,
      "metadata": {
        "colab": {
          "base_uri": "https://localhost:8080/"
        },
        "id": "l3EwZV3weUK_",
        "outputId": "129976ff-4f23-446d-83b3-f429a503f43a"
      },
      "outputs": [
        {
          "data": {
            "text/plain": [
              "AIMessage(content='', additional_kwargs={'tool_calls': [{'id': 'call_xvhm', 'function': {'arguments': '{\"query\": \"weather in SF\"}', 'name': 'tavily_search_results_json'}, 'type': 'function'}]}, response_metadata={'token_usage': {'completion_tokens': 26, 'prompt_tokens': 537, 'total_tokens': 563, 'completion_time': 0.065371145, 'prompt_time': 0.02728944, 'queue_time': 0.022198402999999995, 'total_time': 0.092660585}, 'model_name': 'qwen-2.5-32b', 'system_fingerprint': 'fp_7b9ecfcd5f', 'finish_reason': 'tool_calls', 'logprobs': None}, id='run-5d69692f-d856-4c92-b275-0f677e5832ec-0', tool_calls=[{'name': 'tavily_search_results_json', 'args': {'query': 'weather in SF'}, 'id': 'call_xvhm', 'type': 'tool_call'}], usage_metadata={'input_tokens': 537, 'output_tokens': 26, 'total_tokens': 563})"
            ]
          },
          "execution_count": 34,
          "metadata": {},
          "output_type": "execute_result"
        }
      ],
      "source": [
        "response"
      ]
    },
    {
      "cell_type": "code",
      "execution_count": 35,
      "metadata": {
        "colab": {
          "base_uri": "https://localhost:8080/"
        },
        "id": "2Q1o6z_UD_0N",
        "outputId": "ffedd827-1cca-4c73-e261-3519764a9224"
      },
      "outputs": [
        {
          "name": "stdout",
          "output_type": "stream",
          "text": [
            "ContentString: \n",
            "ToolCalls: [{'name': 'tavily_search_results_json', 'args': {'query': 'current weather in San Francisco'}, 'id': 'call_ahs7', 'type': 'tool_call'}]\n"
          ]
        }
      ],
      "source": [
        "response = model_with_tools.invoke([HumanMessage(content=\"What's the weather in SF?\")])\n",
        "\n",
        "print(f\"ContentString: {response.content}\")\n",
        "print(f\"ToolCalls: {response.tool_calls}\")"
      ]
    },
    {
      "cell_type": "code",
      "execution_count": 36,
      "metadata": {
        "id": "MV1z9rqAEWal"
      },
      "outputs": [],
      "source": [
        "from langgraph.prebuilt import create_react_agent\n",
        "\n",
        "agent_executor = create_react_agent(model, tools)"
      ]
    },
    {
      "cell_type": "code",
      "execution_count": 37,
      "metadata": {
        "colab": {
          "base_uri": "https://localhost:8080/"
        },
        "id": "dmQzEcwCEg7V",
        "outputId": "7636dd2d-30a3-4d92-ee10-a78407a50e9e"
      },
      "outputs": [
        {
          "data": {
            "text/plain": [
              "[HumanMessage(content='hi!', additional_kwargs={}, response_metadata={}, id='65334a66-2adc-412b-9076-204885e5d04a'),\n",
              " AIMessage(content='Hello! How can I assist you today?', additional_kwargs={}, response_metadata={'token_usage': {'completion_tokens': 10, 'prompt_tokens': 203, 'total_tokens': 213, 'completion_time': 0.025168988, 'prompt_time': 0.011783832, 'queue_time': 0.022202860999999997, 'total_time': 0.03695282}, 'model_name': 'qwen-2.5-32b', 'system_fingerprint': 'fp_7b9ecfcd5f', 'finish_reason': 'stop', 'logprobs': None}, id='run-bd1b5be0-e68d-4093-85d0-931400605cb3-0', usage_metadata={'input_tokens': 203, 'output_tokens': 10, 'total_tokens': 213})]"
            ]
          },
          "execution_count": 37,
          "metadata": {},
          "output_type": "execute_result"
        }
      ],
      "source": [
        "response = agent_executor.invoke({\"messages\": [HumanMessage(content=\"hi!\")]})\n",
        "\n",
        "response[\"messages\"]"
      ]
    },
    {
      "cell_type": "code",
      "execution_count": 38,
      "metadata": {
        "colab": {
          "base_uri": "https://localhost:8080/"
        },
        "id": "1W45h4Mteo8Y",
        "outputId": "a0756441-ab96-46c6-ae49-bf030cd63f97"
      },
      "outputs": [
        {
          "data": {
            "text/plain": [
              "[SystemMessage(content='\\nYou are an expert assistant designed to answer questions by following a structured, step-by-step reasoning process. To assist you, you have access to tools that can be invoked using Python functions. Your task-solving approach should follow a sequence of \\'Thought:\\', \\'Code:\\', and \\'Observation:\\' steps.\\n\\n### How to Proceed:\\n1. Thought: At each step, explain your reasoning for answering the question. Decide whether to use a tool or not, and describe your plan.\\n2. Code: If a tool is needed, write the corresponding Python code in a simple format. The code block must end with `<end_code>`. Use `print()` statements to capture important intermediate results.\\n3. Observation: The output of the `print()` statements will appear in this field, providing information for the next step.\\n4. Repeat the cycle until you arrive at the final answer.\\n\\n### Final Output:\\nAt the end of the process, provide the `final_answer` to the question.\\n\\n---\\n\\n### Examples:\\n\\n#### Example 1:\\nTask: \"What is the weather in San Francisco?\"\\n\\nThought: I need to find the current weather in San Francisco. I will use the `search` tool to look up this information.\\n\\nCode:\\n```py\\nanswer = search.invoke(\"What is the weather in San Francisco?\")\\nprint(answer)\\n```<end_code>\\n\\nObservation: San Francisco is partly cloudy.\\n\\nFinal Answer: The weather in San Francisco is partly cloudy.\\n\\n---\\n\\n#### Example 2:\\nTask: \"Hi, how are you?\"\\n\\nThought: This is a conversational question, so I don\\'t need to use any tools. I will respond directly.\\n\\nFinal Answer: I\\'m doing well, thank you! How about you?\\n\\n---\\n\\n', additional_kwargs={}, response_metadata={}, id='68d2ebda-8e83-4e3e-b028-1a2028f7b4aa'),\n",
              " HumanMessage(content=\"What's the weather in SF?\", additional_kwargs={}, response_metadata={}, id='f3cfea77-5036-4c0c-91b9-b5c628f333a2'),\n",
              " AIMessage(content='', additional_kwargs={'tool_calls': [{'id': 'call_p60g', 'function': {'arguments': '{\"query\": \"weather in San Francisco\"}', 'name': 'tavily_search_results_json'}, 'type': 'function'}]}, response_metadata={'token_usage': {'completion_tokens': 27, 'prompt_tokens': 537, 'total_tokens': 564, 'completion_time': 0.067943343, 'prompt_time': 0.027282429, 'queue_time': 0.022434564, 'total_time': 0.095225772}, 'model_name': 'qwen-2.5-32b', 'system_fingerprint': 'fp_7b9ecfcd5f', 'finish_reason': 'tool_calls', 'logprobs': None}, id='run-300c03a9-f74c-422b-bf64-67a07478226f-0', tool_calls=[{'name': 'tavily_search_results_json', 'args': {'query': 'weather in San Francisco'}, 'id': 'call_p60g', 'type': 'tool_call'}], usage_metadata={'input_tokens': 537, 'output_tokens': 27, 'total_tokens': 564}),\n",
              " ToolMessage(content='[{\"url\": \"https://www.weatherapi.com/\", \"content\": \"{\\'location\\': {\\'name\\': \\'San Francisco\\', \\'region\\': \\'California\\', \\'country\\': \\'United States of America\\', \\'lat\\': 37.775, \\'lon\\': -122.4183, \\'tz_id\\': \\'America/Los_Angeles\\', \\'localtime_epoch\\': 1739696807, \\'localtime\\': \\'2025-02-16 01:06\\'}, \\'current\\': {\\'last_updated_epoch\\': 1739696400, \\'last_updated\\': \\'2025-02-16 01:00\\', \\'temp_c\\': 8.9, \\'temp_f\\': 48.0, \\'is_day\\': 0, \\'condition\\': {\\'text\\': \\'Partly cloudy\\', \\'icon\\': \\'//cdn.weatherapi.com/weather/64x64/night/116.png\\', \\'code\\': 1003}, \\'wind_mph\\': 2.7, \\'wind_kph\\': 4.3, \\'wind_degree\\': 251, \\'wind_dir\\': \\'WSW\\', \\'pressure_mb\\': 1025.0, \\'pressure_in\\': 30.26, \\'precip_mm\\': 0.0, \\'precip_in\\': 0.0, \\'humidity\\': 93, \\'cloud\\': 50, \\'feelslike_c\\': 8.7, \\'feelslike_f\\': 47.7, \\'windchill_c\\': 9.6, \\'windchill_f\\': 49.2, \\'heatindex_c\\': 9.7, \\'heatindex_f\\': 49.5, \\'dewpoint_c\\': 9.3, \\'dewpoint_f\\': 48.8, \\'vis_km\\': 16.0, \\'vis_miles\\': 9.0, \\'uv\\': 0.0, \\'gust_mph\\': 4.3, \\'gust_kph\\': 6.9}}\"}, {\"url\": \"https://www.weather2travel.com/california/san-francisco/february/\", \"content\": \"San Francisco weather in February 2025 | California Holidays San Francisco weather in February 2025 Expect 16°C daytime maximum temperatures in the shade with on average 7 hours of sunshine per day in San Francisco in February. There are usually 9 days with some rain in San Francisco in February and the average monthly rainfall is 91mm. Get your weekly fix of holiday inspiration from some of the world\\'s best travel writers plus save on your next trip with the latest exclusive offers More holidays January sales Handpicked travel deals & holiday discounts We help you find the best travel deals for your holiday in the sun by sharing tips on when and where to go, before providing you with top discounts. Holidays\"}]', name='tavily_search_results_json', id='d1f8520d-674e-4acf-b3de-53bb68769e03', tool_call_id='call_p60g', artifact={'query': 'weather in San Francisco', 'follow_up_questions': None, 'answer': None, 'images': [], 'results': [{'title': 'Weather in San Francisco', 'url': 'https://www.weatherapi.com/', 'content': \"{'location': {'name': 'San Francisco', 'region': 'California', 'country': 'United States of America', 'lat': 37.775, 'lon': -122.4183, 'tz_id': 'America/Los_Angeles', 'localtime_epoch': 1739696807, 'localtime': '2025-02-16 01:06'}, 'current': {'last_updated_epoch': 1739696400, 'last_updated': '2025-02-16 01:00', 'temp_c': 8.9, 'temp_f': 48.0, 'is_day': 0, 'condition': {'text': 'Partly cloudy', 'icon': '//cdn.weatherapi.com/weather/64x64/night/116.png', 'code': 1003}, 'wind_mph': 2.7, 'wind_kph': 4.3, 'wind_degree': 251, 'wind_dir': 'WSW', 'pressure_mb': 1025.0, 'pressure_in': 30.26, 'precip_mm': 0.0, 'precip_in': 0.0, 'humidity': 93, 'cloud': 50, 'feelslike_c': 8.7, 'feelslike_f': 47.7, 'windchill_c': 9.6, 'windchill_f': 49.2, 'heatindex_c': 9.7, 'heatindex_f': 49.5, 'dewpoint_c': 9.3, 'dewpoint_f': 48.8, 'vis_km': 16.0, 'vis_miles': 9.0, 'uv': 0.0, 'gust_mph': 4.3, 'gust_kph': 6.9}}\", 'score': 0.9793338, 'raw_content': None}, {'url': 'https://www.weather2travel.com/california/san-francisco/february/', 'title': 'San Francisco weather in February 2025 | California', 'content': \"San Francisco weather in February 2025 | California Holidays San Francisco weather in February 2025 Expect 16°C daytime maximum temperatures in the shade with on average 7 hours of sunshine per day in San Francisco in February. There are usually 9 days with some rain in San Francisco in February and the average monthly rainfall is 91mm. Get your weekly fix of holiday inspiration from some of the world's best travel writers plus save on your next trip with the latest exclusive offers More holidays January sales Handpicked travel deals & holiday discounts We help you find the best travel deals for your holiday in the sun by sharing tips on when and where to go, before providing you with top discounts. Holidays\", 'score': 0.918838, 'raw_content': None}], 'response_time': 1.88}),\n",
              " AIMessage(content=\"Thought: I've received the weather information for San Francisco from the API. The current temperature is 8.9°C and it's partly cloudy.\\n\\nFinal Answer: The current weather in San Francisco is partly cloudy with a temperature of 8.9°C.\", additional_kwargs={}, response_metadata={'token_usage': {'completion_tokens': 53, 'prompt_tokens': 1223, 'total_tokens': 1276, 'completion_time': 0.133260909, 'prompt_time': 0.058988091, 'queue_time': 0.025652486999999995, 'total_time': 0.192249}, 'model_name': 'qwen-2.5-32b', 'system_fingerprint': 'fp_7b9ecfcd5f', 'finish_reason': 'stop', 'logprobs': None}, id='run-a38c128f-e683-43b2-a78f-959940f137d2-0', usage_metadata={'input_tokens': 1223, 'output_tokens': 53, 'total_tokens': 1276})]"
            ]
          },
          "execution_count": 38,
          "metadata": {},
          "output_type": "execute_result"
        }
      ],
      "source": [
        "response = agent_executor.invoke({\"messages\": [\n",
        "    SystemMessage(content=system_prompt),  # System prompt\n",
        "    HumanMessage(content=\"What's the weather in SF?\")\n",
        "]})\n",
        "\n",
        "response[\"messages\"]"
      ]
    },
    {
      "cell_type": "code",
      "execution_count": 39,
      "metadata": {
        "colab": {
          "base_uri": "https://localhost:8080/",
          "height": 54
        },
        "id": "XH0GZIm6ZSZ9",
        "outputId": "3e409b9e-a2e7-4431-a0eb-db45c5048d11"
      },
      "outputs": [
        {
          "data": {
            "text/plain": [
              "\"Thought: I've received the weather information for San Francisco from the API. The current temperature is 8.9°C and it's partly cloudy.\\n\\nFinal Answer: The current weather in San Francisco is partly cloudy with a temperature of 8.9°C.\""
            ]
          },
          "execution_count": 39,
          "metadata": {},
          "output_type": "execute_result"
        }
      ],
      "source": [
        "response[\"messages\"][-1].content"
      ]
    },
    {
      "cell_type": "code",
      "execution_count": 40,
      "metadata": {
        "colab": {
          "base_uri": "https://localhost:8080/"
        },
        "id": "qQSGjM9REkad",
        "outputId": "7ad4237c-a5a0-4238-a4a7-56ef29d672bc"
      },
      "outputs": [
        {
          "data": {
            "text/plain": [
              "[SystemMessage(content='\\nYou are an expert assistant designed to answer questions by following a structured, step-by-step reasoning process. To assist you, you have access to tools that can be invoked using Python functions. Your task-solving approach should follow a sequence of \\'Thought:\\', \\'Code:\\', and \\'Observation:\\' steps.\\n\\n### How to Proceed:\\n1. Thought: At each step, explain your reasoning for answering the question. Decide whether to use a tool or not, and describe your plan.\\n2. Code: If a tool is needed, write the corresponding Python code in a simple format. The code block must end with `<end_code>`. Use `print()` statements to capture important intermediate results.\\n3. Observation: The output of the `print()` statements will appear in this field, providing information for the next step.\\n4. Repeat the cycle until you arrive at the final answer.\\n\\n### Final Output:\\nAt the end of the process, provide the `final_answer` to the question.\\n\\n---\\n\\n### Examples:\\n\\n#### Example 1:\\nTask: \"What is the weather in San Francisco?\"\\n\\nThought: I need to find the current weather in San Francisco. I will use the `search` tool to look up this information.\\n\\nCode:\\n```py\\nanswer = search.invoke(\"What is the weather in San Francisco?\")\\nprint(answer)\\n```<end_code>\\n\\nObservation: San Francisco is partly cloudy.\\n\\nFinal Answer: The weather in San Francisco is partly cloudy.\\n\\n---\\n\\n#### Example 2:\\nTask: \"Hi, how are you?\"\\n\\nThought: This is a conversational question, so I don\\'t need to use any tools. I will respond directly.\\n\\nFinal Answer: I\\'m doing well, thank you! How about you?\\n\\n---\\n\\n', additional_kwargs={}, response_metadata={}, id='771d71ea-16ea-4d98-90dd-74350acf0737'),\n",
              " HumanMessage(content=\"What's the weather in SF?\", additional_kwargs={}, response_metadata={}, id='69bb9aed-48a5-4d1c-a6b2-05e7a3c3115d'),\n",
              " AIMessage(content='', additional_kwargs={'tool_calls': [{'id': 'call_jaff', 'function': {'arguments': '{\"query\": \"weather in SF\"}', 'name': 'tavily_search_results_json'}, 'type': 'function'}]}, response_metadata={'token_usage': {'completion_tokens': 26, 'prompt_tokens': 537, 'total_tokens': 563, 'completion_time': 0.065383954, 'prompt_time': 0.02958819, 'queue_time': 0.022196932000000003, 'total_time': 0.094972144}, 'model_name': 'qwen-2.5-32b', 'system_fingerprint': 'fp_7b9ecfcd5f', 'finish_reason': 'tool_calls', 'logprobs': None}, id='run-53ba946d-05d3-4bf7-8cde-54fb12f22fef-0', tool_calls=[{'name': 'tavily_search_results_json', 'args': {'query': 'weather in SF'}, 'id': 'call_jaff', 'type': 'tool_call'}], usage_metadata={'input_tokens': 537, 'output_tokens': 26, 'total_tokens': 563}),\n",
              " ToolMessage(content='[{\"url\": \"https://www.weatherapi.com/\", \"content\": \"{\\'location\\': {\\'name\\': \\'San Francisco\\', \\'region\\': \\'California\\', \\'country\\': \\'United States of America\\', \\'lat\\': 37.775, \\'lon\\': -122.4183, \\'tz_id\\': \\'America/Los_Angeles\\', \\'localtime_epoch\\': 1739697633, \\'localtime\\': \\'2025-02-16 01:20\\'}, \\'current\\': {\\'last_updated_epoch\\': 1739697300, \\'last_updated\\': \\'2025-02-16 01:15\\', \\'temp_c\\': 7.8, \\'temp_f\\': 46.0, \\'is_day\\': 0, \\'condition\\': {\\'text\\': \\'Partly cloudy\\', \\'icon\\': \\'//cdn.weatherapi.com/weather/64x64/night/116.png\\', \\'code\\': 1003}, \\'wind_mph\\': 2.7, \\'wind_kph\\': 4.3, \\'wind_degree\\': 251, \\'wind_dir\\': \\'WSW\\', \\'pressure_mb\\': 1025.0, \\'pressure_in\\': 30.26, \\'precip_mm\\': 0.0, \\'precip_in\\': 0.0, \\'humidity\\': 96, \\'cloud\\': 50, \\'feelslike_c\\': 7.5, \\'feelslike_f\\': 45.5, \\'windchill_c\\': 9.6, \\'windchill_f\\': 49.2, \\'heatindex_c\\': 9.7, \\'heatindex_f\\': 49.5, \\'dewpoint_c\\': 9.3, \\'dewpoint_f\\': 48.8, \\'vis_km\\': 16.0, \\'vis_miles\\': 9.0, \\'uv\\': 0.0, \\'gust_mph\\': 4.3, \\'gust_kph\\': 6.9}}\"}, {\"url\": \"https://www.weather2travel.com/california/san-francisco/february/\", \"content\": \"San Francisco weather in February 2025 | California Holidays San Francisco weather in February 2025 Expect 16°C daytime maximum temperatures in the shade with on average 7 hours of sunshine per day in San Francisco in February. There are usually 9 days with some rain in San Francisco in February and the average monthly rainfall is 91mm. Get your weekly fix of holiday inspiration from some of the world\\'s best travel writers plus save on your next trip with the latest exclusive offers More holidays January sales Handpicked travel deals & holiday discounts We help you find the best travel deals for your holiday in the sun by sharing tips on when and where to go, before providing you with top discounts. Holidays\"}]', name='tavily_search_results_json', id='0940ee8a-cc7d-4018-9a9c-49dbe2333cf7', tool_call_id='call_jaff', artifact={'query': 'weather in SF', 'follow_up_questions': None, 'answer': None, 'images': [], 'results': [{'title': 'Weather in San Francisco', 'url': 'https://www.weatherapi.com/', 'content': \"{'location': {'name': 'San Francisco', 'region': 'California', 'country': 'United States of America', 'lat': 37.775, 'lon': -122.4183, 'tz_id': 'America/Los_Angeles', 'localtime_epoch': 1739697633, 'localtime': '2025-02-16 01:20'}, 'current': {'last_updated_epoch': 1739697300, 'last_updated': '2025-02-16 01:15', 'temp_c': 7.8, 'temp_f': 46.0, 'is_day': 0, 'condition': {'text': 'Partly cloudy', 'icon': '//cdn.weatherapi.com/weather/64x64/night/116.png', 'code': 1003}, 'wind_mph': 2.7, 'wind_kph': 4.3, 'wind_degree': 251, 'wind_dir': 'WSW', 'pressure_mb': 1025.0, 'pressure_in': 30.26, 'precip_mm': 0.0, 'precip_in': 0.0, 'humidity': 96, 'cloud': 50, 'feelslike_c': 7.5, 'feelslike_f': 45.5, 'windchill_c': 9.6, 'windchill_f': 49.2, 'heatindex_c': 9.7, 'heatindex_f': 49.5, 'dewpoint_c': 9.3, 'dewpoint_f': 48.8, 'vis_km': 16.0, 'vis_miles': 9.0, 'uv': 0.0, 'gust_mph': 4.3, 'gust_kph': 6.9}}\", 'score': 0.9528869, 'raw_content': None}, {'url': 'https://www.weather2travel.com/california/san-francisco/february/', 'title': 'San Francisco weather in February 2025 | California', 'content': \"San Francisco weather in February 2025 | California Holidays San Francisco weather in February 2025 Expect 16°C daytime maximum temperatures in the shade with on average 7 hours of sunshine per day in San Francisco in February. There are usually 9 days with some rain in San Francisco in February and the average monthly rainfall is 91mm. Get your weekly fix of holiday inspiration from some of the world's best travel writers plus save on your next trip with the latest exclusive offers More holidays January sales Handpicked travel deals & holiday discounts We help you find the best travel deals for your holiday in the sun by sharing tips on when and where to go, before providing you with top discounts. Holidays\", 'score': 0.8820324, 'raw_content': None}], 'response_time': 3.53}),\n",
              " AIMessage(content='Thought: I have received the weather information for San Francisco from the search results. I will extract and provide the relevant weather details.\\n\\nFinal Answer: The weather in San Francisco is currently partly cloudy with a temperature of 7.8°C (46°F). It feels like 7.5°C (45.5°F) and the humidity is 96%. There is very little chance of rain as the precipitation is 0.0mm.', additional_kwargs={}, response_metadata={'token_usage': {'completion_tokens': 93, 'prompt_tokens': 1222, 'total_tokens': 1315, 'completion_time': 0.23385837, 'prompt_time': 0.059007641, 'queue_time': 0.026404832000000003, 'total_time': 0.292866011}, 'model_name': 'qwen-2.5-32b', 'system_fingerprint': 'fp_7b9ecfcd5f', 'finish_reason': 'stop', 'logprobs': None}, id='run-11e52ea2-3135-427a-b314-7142c68b717f-0', usage_metadata={'input_tokens': 1222, 'output_tokens': 93, 'total_tokens': 1315})]"
            ]
          },
          "execution_count": 40,
          "metadata": {},
          "output_type": "execute_result"
        }
      ],
      "source": [
        "response = agent_executor.invoke(\n",
        "    {\"messages\": [\n",
        "    SystemMessage(content=system_prompt),  # System prompt\n",
        "    HumanMessage(content=\"What's the weather in SF?\")\n",
        "]}\n",
        ")\n",
        "response[\"messages\"]\n",
        "\n"
      ]
    },
    {
      "cell_type": "code",
      "execution_count": 41,
      "metadata": {
        "colab": {
          "base_uri": "https://localhost:8080/",
          "height": 36
        },
        "id": "7eb742oEZUyE",
        "outputId": "7d5cc0ba-ac46-4ab7-874a-094678cadf54"
      },
      "outputs": [
        {
          "data": {
            "text/plain": [
              "\"What's the weather in SF?\""
            ]
          },
          "execution_count": 41,
          "metadata": {},
          "output_type": "execute_result"
        }
      ],
      "source": [
        "response[\"messages\"][1].content"
      ]
    },
    {
      "cell_type": "code",
      "execution_count": 42,
      "metadata": {
        "colab": {
          "base_uri": "https://localhost:8080/"
        },
        "id": "dk_QPd98EmlW",
        "outputId": "89334a02-e899-4895-d512-e34bc1bde250"
      },
      "outputs": [
        {
          "name": "stdout",
          "output_type": "stream",
          "text": [
            "{'agent': {'messages': [AIMessage(content='', additional_kwargs={'tool_calls': [{'id': 'call_44sf', 'function': {'arguments': '{\"query\": \"weather in delhi india\"}', 'name': 'tavily_search_results_json'}, 'type': 'function'}]}, response_metadata={'token_usage': {'completion_tokens': 28, 'prompt_tokens': 540, 'total_tokens': 568, 'completion_time': 0.071889148, 'prompt_time': 0.0295927, 'queue_time': 0.022282593000000003, 'total_time': 0.101481848}, 'model_name': 'qwen-2.5-32b', 'system_fingerprint': 'fp_7b9ecfcd5f', 'finish_reason': 'tool_calls', 'logprobs': None}, id='run-9afcc20a-11e1-4189-8c73-10d6df208962-0', tool_calls=[{'name': 'tavily_search_results_json', 'args': {'query': 'weather in delhi india'}, 'id': 'call_44sf', 'type': 'tool_call'}], usage_metadata={'input_tokens': 540, 'output_tokens': 28, 'total_tokens': 568})]}}\n",
            "----\n",
            "{'tools': {'messages': [ToolMessage(content='[{\"url\": \"https://www.weatherapi.com/\", \"content\": \"{\\'location\\': {\\'name\\': \\'Delhi\\', \\'region\\': \\'Delhi\\', \\'country\\': \\'India\\', \\'lat\\': 28.6667, \\'lon\\': 77.2167, \\'tz_id\\': \\'Asia/Kolkata\\', \\'localtime_epoch\\': 1739697642, \\'localtime\\': \\'2025-02-16 14:50\\'}, \\'current\\': {\\'last_updated_epoch\\': 1739697300, \\'last_updated\\': \\'2025-02-16 14:45\\', \\'temp_c\\': 27.1, \\'temp_f\\': 80.8, \\'is_day\\': 1, \\'condition\\': {\\'text\\': \\'Mist\\', \\'icon\\': \\'//cdn.weatherapi.com/weather/64x64/day/143.png\\', \\'code\\': 1030}, \\'wind_mph\\': 3.1, \\'wind_kph\\': 5.0, \\'wind_degree\\': 266, \\'wind_dir\\': \\'W\\', \\'pressure_mb\\': 1012.0, \\'pressure_in\\': 29.88, \\'precip_mm\\': 0.0, \\'precip_in\\': 0.0, \\'humidity\\': 25, \\'cloud\\': 25, \\'feelslike_c\\': 25.4, \\'feelslike_f\\': 77.7, \\'windchill_c\\': 27.2, \\'windchill_f\\': 80.9, \\'heatindex_c\\': 25.4, \\'heatindex_f\\': 77.8, \\'dewpoint_c\\': 3.0, \\'dewpoint_f\\': 37.3, \\'vis_km\\': 4.5, \\'vis_miles\\': 2.0, \\'uv\\': 3.2, \\'gust_mph\\': 3.6, \\'gust_kph\\': 5.8}}\"}, {\"url\": \"https://www.livemint.com/news/india/delhi-weather-forecast-today-on-february-16-2025-check-latest-imd-rain-predictions-temperature-air-quality-index-11739669404092.html\", \"content\": \"Delhi Weather Forecast and AQI Today on February 16, 2025: Warm start at 13.05 °C., Find out the complete weather forecast | Today News News News US News Delhi Weather Forecast and AQI Today: The temperature in Delhi recorded 26.76 °C on February 16, 2025, as per the India Meteorological Department (IMD). Modi Trump meet LIVE Ranveer Allahbadia Controversy LIVE Pakistan Vs New Zealand LIVE SCORE Valentine Day 2025 Jio Hotstar Merged Livemint Hindi Bank Holidays in Gujarat Bank Holidays in Delhi Bank Holidays in September Income Tax Calculator 2025 Bank Holidays in Jammu And Kashmir Instant Personal Loan Check Credit Score Online Business Loan Personal Loan Interest Rate Personal Loan Eligibility Personal Loan EMI Calculator Gold Rate in Delhi Gold Rate in Bangalore Gold Rate in Chennai Gold Rate in Hyderabad Gold Rate in Mumbai Business Radio - FAB Play Assembly Election Results Credit Card Personal Loan Online Gold Rate India Bank Holidays India News\"}]', name='tavily_search_results_json', id='eb7c8c16-609e-4ada-b30e-64904597fc96', tool_call_id='call_44sf', artifact={'query': 'weather in delhi india', 'follow_up_questions': None, 'answer': None, 'images': [], 'results': [{'title': 'Weather in delhi india', 'url': 'https://www.weatherapi.com/', 'content': \"{'location': {'name': 'Delhi', 'region': 'Delhi', 'country': 'India', 'lat': 28.6667, 'lon': 77.2167, 'tz_id': 'Asia/Kolkata', 'localtime_epoch': 1739697642, 'localtime': '2025-02-16 14:50'}, 'current': {'last_updated_epoch': 1739697300, 'last_updated': '2025-02-16 14:45', 'temp_c': 27.1, 'temp_f': 80.8, 'is_day': 1, 'condition': {'text': 'Mist', 'icon': '//cdn.weatherapi.com/weather/64x64/day/143.png', 'code': 1030}, 'wind_mph': 3.1, 'wind_kph': 5.0, 'wind_degree': 266, 'wind_dir': 'W', 'pressure_mb': 1012.0, 'pressure_in': 29.88, 'precip_mm': 0.0, 'precip_in': 0.0, 'humidity': 25, 'cloud': 25, 'feelslike_c': 25.4, 'feelslike_f': 77.7, 'windchill_c': 27.2, 'windchill_f': 80.9, 'heatindex_c': 25.4, 'heatindex_f': 77.8, 'dewpoint_c': 3.0, 'dewpoint_f': 37.3, 'vis_km': 4.5, 'vis_miles': 2.0, 'uv': 3.2, 'gust_mph': 3.6, 'gust_kph': 5.8}}\", 'score': 0.9841458, 'raw_content': None}, {'url': 'https://www.livemint.com/news/india/delhi-weather-forecast-today-on-february-16-2025-check-latest-imd-rain-predictions-temperature-air-quality-index-11739669404092.html', 'title': 'Delhi Weather Forecast and AQI Today on February 16, 2025 - Mint', 'content': 'Delhi Weather Forecast and AQI Today on February 16, 2025: Warm start at 13.05 °C., Find out the complete weather forecast | Today News News News US News Delhi Weather Forecast and AQI Today: The temperature in Delhi recorded 26.76 °C on February 16, 2025, as per the India Meteorological Department (IMD). Modi Trump meet LIVE Ranveer Allahbadia Controversy LIVE Pakistan Vs New Zealand LIVE SCORE Valentine Day 2025 Jio Hotstar Merged Livemint Hindi Bank Holidays in Gujarat Bank Holidays in Delhi Bank Holidays in September Income Tax Calculator 2025 Bank Holidays in Jammu And Kashmir Instant Personal Loan Check Credit Score Online Business Loan Personal Loan Interest Rate Personal Loan Eligibility Personal Loan EMI Calculator Gold Rate in Delhi Gold Rate in Bangalore Gold Rate in Chennai Gold Rate in Hyderabad Gold Rate in Mumbai Business Radio - FAB Play Assembly Election Results Credit Card Personal Loan Online Gold Rate India Bank Holidays India News', 'score': 0.933969, 'raw_content': None}], 'response_time': 2.56})]}}\n",
            "----\n",
            "{'agent': {'messages': [AIMessage(content='Thought: I have received the weather information for Delhi, India. I can extract the necessary details from the data provided by the `tavily_search_results_json` function.\\n\\nThe current weather in Delhi, India is Mist with a temperature of 27.1°C (80.8°F). It is daytime and the humidity is 25%. The visibility is 4.5 km and the wind speed is 5.0 km/h from the west.\\nFinal Answer: The current weather in Delhi, India is Mist with a temperature of 27.1°C (80.8°F). It is daytime and the humidity is 25%. The visibility is 4.5 km and the wind speed is 5.0 km/h from the west.', additional_kwargs={}, response_metadata={'token_usage': {'completion_tokens': 159, 'prompt_tokens': 1339, 'total_tokens': 1498, 'completion_time': 0.399671357, 'prompt_time': 0.070342674, 'queue_time': 0.024245596000000008, 'total_time': 0.470014031}, 'model_name': 'qwen-2.5-32b', 'system_fingerprint': 'fp_7b9ecfcd5f', 'finish_reason': 'stop', 'logprobs': None}, id='run-6e134957-4d81-4966-9be9-be9be7d87ec1-0', usage_metadata={'input_tokens': 1339, 'output_tokens': 159, 'total_tokens': 1498})]}}\n",
            "----\n"
          ]
        }
      ],
      "source": [
        "for chunk in agent_executor.stream(\n",
        "    {\"messages\": [\n",
        "    SystemMessage(content=system_prompt),  # System prompt\n",
        "    HumanMessage(content=\"What's the weather in delhi, india?\")\n",
        "]}\n",
        "):\n",
        "    print(chunk)\n",
        "    print(\"----\")"
      ]
    },
    {
      "cell_type": "code",
      "execution_count": 43,
      "metadata": {
        "colab": {
          "base_uri": "https://localhost:8080/"
        },
        "id": "reVeStaO1u_Z",
        "outputId": "92f689fd-f292-48e4-d965-7e2449a58753"
      },
      "outputs": [
        {
          "name": "stdout",
          "output_type": "stream",
          "text": [
            "Thought: I have received the weather information for Delhi, India. I can extract the necessary details from the data provided by the `tavily_search_results_json` function.\n",
            "\n",
            "The current weather in Delhi, India is Mist with a temperature of 27.1°C (80.8°F). It is daytime and the humidity is 25%. The visibility is 4.5 km and the wind speed is 5.0 km/h from the west.\n",
            "Final Answer: The current weather in Delhi, India is Mist with a temperature of 27.1°C (80.8°F). It is daytime and the humidity is 25%. The visibility is 4.5 km and the wind speed is 5.0 km/h from the west.\n"
          ]
        }
      ],
      "source": [
        "print(chunk['agent']['messages'][0].content)"
      ]
    }
  ],
  "metadata": {
    "colab": {
      "provenance": []
    },
    "kernelspec": {
      "display_name": "venv",
      "language": "python",
      "name": "python3"
    },
    "language_info": {
      "codemirror_mode": {
        "name": "ipython",
        "version": 3
      },
      "file_extension": ".py",
      "mimetype": "text/x-python",
      "name": "python",
      "nbconvert_exporter": "python",
      "pygments_lexer": "ipython3",
      "version": "3.12.7"
    }
  },
  "nbformat": 4,
  "nbformat_minor": 0
}
